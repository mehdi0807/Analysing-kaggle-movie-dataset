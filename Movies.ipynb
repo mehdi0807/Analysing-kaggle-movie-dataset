{
 "cells": [
  {
   "cell_type": "markdown",
   "id": "dbd1d625",
   "metadata": {},
   "source": [
    "# Cleaning Top 1000 IMDB movies Kaggele dataset\n",
    "<br><p>The dataset contains information about movies (name, description, release year, watch time, ...). <br>\n",
    "My goal is to clean and make visualisation about it </p>"
   ]
  },
  {
   "cell_type": "markdown",
   "id": "31d1a7db",
   "metadata": {},
   "source": [
    "### Importing packages and data"
   ]
  },
  {
   "cell_type": "code",
   "execution_count": 1,
   "id": "5863d828",
   "metadata": {},
   "outputs": [
    {
     "data": {
      "text/html": [
       "        <script type=\"text/javascript\">\n",
       "        window.PlotlyConfig = {MathJaxConfig: 'local'};\n",
       "        if (window.MathJax) {MathJax.Hub.Config({SVG: {font: \"STIX-Web\"}});}\n",
       "        if (typeof require !== 'undefined') {\n",
       "        require.undef(\"plotly\");\n",
       "        requirejs.config({\n",
       "            paths: {\n",
       "                'plotly': ['https://cdn.plot.ly/plotly-2.6.3.min']\n",
       "            }\n",
       "        });\n",
       "        require(['plotly'], function(Plotly) {\n",
       "            window._Plotly = Plotly;\n",
       "        });\n",
       "        }\n",
       "        </script>\n",
       "        "
      ]
     },
     "metadata": {},
     "output_type": "display_data"
    }
   ],
   "source": [
    "import pandas as pd\n",
    "import numpy as np\n",
    "import datetime as dt\n",
    "import matplotlib.pyplot as plt\n",
    "import seaborn as sns\n",
    "import missingno as msno\n",
    "import plotly\n",
    "plotly.offline.init_notebook_mode(connected=True)\n",
    "import plotly.graph_objs as go"
   ]
  },
  {
   "cell_type": "code",
   "execution_count": 2,
   "id": "97e20d85",
   "metadata": {
    "scrolled": true
   },
   "outputs": [
    {
     "data": {
      "text/html": [
       "<div>\n",
       "<style scoped>\n",
       "    .dataframe tbody tr th:only-of-type {\n",
       "        vertical-align: middle;\n",
       "    }\n",
       "\n",
       "    .dataframe tbody tr th {\n",
       "        vertical-align: top;\n",
       "    }\n",
       "\n",
       "    .dataframe thead th {\n",
       "        text-align: right;\n",
       "    }\n",
       "</style>\n",
       "<table border=\"1\" class=\"dataframe\">\n",
       "  <thead>\n",
       "    <tr style=\"text-align: right;\">\n",
       "      <th></th>\n",
       "      <th>Movie Name</th>\n",
       "      <th>Year of Release</th>\n",
       "      <th>Watch Time</th>\n",
       "      <th>Movie Rating</th>\n",
       "      <th>Meatscore of movie</th>\n",
       "      <th>Votes</th>\n",
       "      <th>Gross</th>\n",
       "      <th>Description</th>\n",
       "    </tr>\n",
       "  </thead>\n",
       "  <tbody>\n",
       "    <tr>\n",
       "      <th>758</th>\n",
       "      <td>The Great Beauty</td>\n",
       "      <td>(2013)</td>\n",
       "      <td>141 min</td>\n",
       "      <td>7.7</td>\n",
       "      <td>86</td>\n",
       "      <td>34,709</td>\n",
       "      <td>$2.85M</td>\n",
       "      <td>Jep Gambardella has seduced his way through th...</td>\n",
       "    </tr>\n",
       "    <tr>\n",
       "      <th>677</th>\n",
       "      <td>Hamlet</td>\n",
       "      <td>(1996)</td>\n",
       "      <td>242 min</td>\n",
       "      <td>7.8</td>\n",
       "      <td>****</td>\n",
       "      <td>34,709</td>\n",
       "      <td>$4.41M</td>\n",
       "      <td>Hamlet, Prince of Denmark, returns home to fin...</td>\n",
       "    </tr>\n",
       "    <tr>\n",
       "      <th>101</th>\n",
       "      <td>Spider-Man: No Way Home</td>\n",
       "      <td>(2021)</td>\n",
       "      <td>148 min</td>\n",
       "      <td>8.3</td>\n",
       "      <td>71</td>\n",
       "      <td>34,709</td>\n",
       "      <td>$804.75M</td>\n",
       "      <td>With Spider-Man's identity now revealed, Peter...</td>\n",
       "    </tr>\n",
       "    <tr>\n",
       "      <th>255</th>\n",
       "      <td>Memories of Murder</td>\n",
       "      <td>(2003)</td>\n",
       "      <td>132 min</td>\n",
       "      <td>8.1</td>\n",
       "      <td>82</td>\n",
       "      <td>34,709</td>\n",
       "      <td>$0.01M</td>\n",
       "      <td>In a small Korean province in 1986, two detect...</td>\n",
       "    </tr>\n",
       "    <tr>\n",
       "      <th>55</th>\n",
       "      <td>Psycho</td>\n",
       "      <td>(1960)</td>\n",
       "      <td>109 min</td>\n",
       "      <td>8.5</td>\n",
       "      <td>97</td>\n",
       "      <td>34,709</td>\n",
       "      <td>$32.00M</td>\n",
       "      <td>A Phoenix secretary embezzles $40,000 from her...</td>\n",
       "    </tr>\n",
       "    <tr>\n",
       "      <th>103</th>\n",
       "      <td>Like Stars on Earth</td>\n",
       "      <td>(2007)</td>\n",
       "      <td>165 min</td>\n",
       "      <td>8.3</td>\n",
       "      <td>****</td>\n",
       "      <td>34,709</td>\n",
       "      <td>$1.22M</td>\n",
       "      <td>An eight-year-old boy is thought to be a lazy ...</td>\n",
       "    </tr>\n",
       "    <tr>\n",
       "      <th>613</th>\n",
       "      <td>Nightcrawler</td>\n",
       "      <td>(2014)</td>\n",
       "      <td>117 min</td>\n",
       "      <td>7.8</td>\n",
       "      <td>76</td>\n",
       "      <td>34,709</td>\n",
       "      <td>$32.38M</td>\n",
       "      <td>When Louis Bloom, a con man desperate for work...</td>\n",
       "    </tr>\n",
       "    <tr>\n",
       "      <th>315</th>\n",
       "      <td>Nights of Cabiria</td>\n",
       "      <td>(1957)</td>\n",
       "      <td>110 min</td>\n",
       "      <td>8.1</td>\n",
       "      <td>****</td>\n",
       "      <td>34,709</td>\n",
       "      <td>$0.75M</td>\n",
       "      <td>A waifish prostitute wanders the streets of Ro...</td>\n",
       "    </tr>\n",
       "    <tr>\n",
       "      <th>796</th>\n",
       "      <td>Black Book</td>\n",
       "      <td>(2006)</td>\n",
       "      <td>145 min</td>\n",
       "      <td>7.7</td>\n",
       "      <td>71</td>\n",
       "      <td>34,709</td>\n",
       "      <td>$4.40M</td>\n",
       "      <td>In the Nazi-occupied Netherlands during World ...</td>\n",
       "    </tr>\n",
       "    <tr>\n",
       "      <th>896</th>\n",
       "      <td>Goldfinger</td>\n",
       "      <td>(1964)</td>\n",
       "      <td>110 min</td>\n",
       "      <td>7.7</td>\n",
       "      <td>87</td>\n",
       "      <td>34,709</td>\n",
       "      <td>$51.08M</td>\n",
       "      <td>While investigating a gold magnate's smuggling...</td>\n",
       "    </tr>\n",
       "  </tbody>\n",
       "</table>\n",
       "</div>"
      ],
      "text/plain": [
       "                  Movie Name Year of Release Watch Time  Movie Rating  \\\n",
       "758         The Great Beauty          (2013)    141 min           7.7   \n",
       "677                   Hamlet          (1996)    242 min           7.8   \n",
       "101  Spider-Man: No Way Home          (2021)    148 min           8.3   \n",
       "255       Memories of Murder          (2003)    132 min           8.1   \n",
       "55                    Psycho          (1960)    109 min           8.5   \n",
       "103      Like Stars on Earth          (2007)    165 min           8.3   \n",
       "613             Nightcrawler          (2014)    117 min           7.8   \n",
       "315        Nights of Cabiria          (1957)    110 min           8.1   \n",
       "796               Black Book          (2006)    145 min           7.7   \n",
       "896               Goldfinger          (1964)    110 min           7.7   \n",
       "\n",
       "    Meatscore of movie   Votes     Gross  \\\n",
       "758         86          34,709    $2.85M   \n",
       "677               ****  34,709    $4.41M   \n",
       "101         71          34,709  $804.75M   \n",
       "255         82          34,709    $0.01M   \n",
       "55          97          34,709   $32.00M   \n",
       "103               ****  34,709    $1.22M   \n",
       "613         76          34,709   $32.38M   \n",
       "315               ****  34,709    $0.75M   \n",
       "796         71          34,709    $4.40M   \n",
       "896         87          34,709   $51.08M   \n",
       "\n",
       "                                           Description  \n",
       "758  Jep Gambardella has seduced his way through th...  \n",
       "677  Hamlet, Prince of Denmark, returns home to fin...  \n",
       "101  With Spider-Man's identity now revealed, Peter...  \n",
       "255  In a small Korean province in 1986, two detect...  \n",
       "55   A Phoenix secretary embezzles $40,000 from her...  \n",
       "103  An eight-year-old boy is thought to be a lazy ...  \n",
       "613  When Louis Bloom, a con man desperate for work...  \n",
       "315  A waifish prostitute wanders the streets of Ro...  \n",
       "796  In the Nazi-occupied Netherlands during World ...  \n",
       "896  While investigating a gold magnate's smuggling...  "
      ]
     },
     "execution_count": 2,
     "metadata": {},
     "output_type": "execute_result"
    }
   ],
   "source": [
    "data = pd.read_csv(\"Top 1000 IMDB movies (1).csv\", index_col=0)\n",
    "data.sample(10)"
   ]
  },
  {
   "cell_type": "code",
   "execution_count": 3,
   "id": "83173e39",
   "metadata": {
    "scrolled": true
   },
   "outputs": [
    {
     "name": "stdout",
     "output_type": "stream",
     "text": [
      "<class 'pandas.core.frame.DataFrame'>\n",
      "Int64Index: 1000 entries, 0 to 999\n",
      "Data columns (total 8 columns):\n",
      " #   Column              Non-Null Count  Dtype  \n",
      "---  ------              --------------  -----  \n",
      " 0   Movie Name          1000 non-null   object \n",
      " 1   Year of Release     1000 non-null   object \n",
      " 2   Watch Time          1000 non-null   object \n",
      " 3   Movie Rating        1000 non-null   float64\n",
      " 4   Meatscore of movie  1000 non-null   object \n",
      " 5   Votes               1000 non-null   object \n",
      " 6   Gross               1000 non-null   object \n",
      " 7   Description         1000 non-null   object \n",
      "dtypes: float64(1), object(7)\n",
      "memory usage: 70.3+ KB\n"
     ]
    }
   ],
   "source": [
    "data.info()"
   ]
  },
  {
   "cell_type": "markdown",
   "id": "c50989e4",
   "metadata": {},
   "source": [
    "### Data cleaning\n",
    "<p> Now I am going to explore data and deal with data cleaning problem<br></p>"
   ]
  },
  {
   "cell_type": "markdown",
   "id": "7ab3c544",
   "metadata": {},
   "source": [
    "#### Year of release column\n",
    "The column needs to be in a date data type.<br>"
   ]
  },
  {
   "cell_type": "code",
   "execution_count": 4,
   "id": "95f1a16a",
   "metadata": {},
   "outputs": [],
   "source": [
    "symbols=[\"(\", \")\", \"I\", \" \"]\n",
    "for symbol in symbols :\n",
    "    data[\"Year of Release\"]=data[\"Year of Release\"].str.replace(symbol, \"\", regex=False)\n",
    "data[\"Year of Release\"] = pd.to_datetime(data[\"Year of Release\"], format=\"%Y\")\n",
    "data[\"Year of Release\"] = data[\"Year of Release\"].dt.year"
   ]
  },
  {
   "cell_type": "code",
   "execution_count": 5,
   "id": "a0f89f8a",
   "metadata": {},
   "outputs": [],
   "source": [
    "year = data[\"Year of Release\"].value_counts()\n",
    "d = [go.Bar(\n",
    "        x = year.index, # index = category name\n",
    "        y = year.values, # value = count\n",
    ")]\n",
    "# plotly.offline.iplot(d)"
   ]
  },
  {
   "cell_type": "markdown",
   "id": "ed8eb99e",
   "metadata": {},
   "source": [
    "<p> This is an image of the histogram of \"Year of Release\" column in case it dosen't appear</p>"
   ]
  },
  {
   "cell_type": "markdown",
   "id": "b2d115ef",
   "metadata": {},
   "source": [
    "##### Year of Relase histogram\n",
    "<img src=\"newplot.png\">"
   ]
  },
  {
   "cell_type": "markdown",
   "id": "5dcf07b0",
   "metadata": {},
   "source": [
    "#### Watch time column\n",
    "The column needs to be in a int data type.<br>"
   ]
  },
  {
   "cell_type": "code",
   "execution_count": 6,
   "id": "b55f63d0",
   "metadata": {},
   "outputs": [
    {
     "data": {
      "text/plain": [
       "0      142\n",
       "1      175\n",
       "2      152\n",
       "3      201\n",
       "4      195\n",
       "      ... \n",
       "995    113\n",
       "996    118\n",
       "997     83\n",
       "998     86\n",
       "999     71\n",
       "Name: Watch Time, Length: 1000, dtype: int32"
      ]
     },
     "execution_count": 6,
     "metadata": {},
     "output_type": "execute_result"
    }
   ],
   "source": [
    "symbols=[\"m\", \"i\", \"n\", \" \"]\n",
    "for symbol in symbols :\n",
    "    data[\"Watch Time\"]=data[\"Watch Time\"].str.replace(symbol, \"\", regex=False)\n",
    "data[\"Watch Time\"].astype(\"int\")"
   ]
  },
  {
   "cell_type": "code",
   "execution_count": 7,
   "id": "38d4ff57",
   "metadata": {},
   "outputs": [],
   "source": [
    "watch = data[\"Watch Time\"].value_counts()\n",
    "d = [go.Bar(\n",
    "        x = watch.index, # index = category name\n",
    "        y = watch.values, # value = count\n",
    ")]\n",
    "# plotly.offline.iplot(d)"
   ]
  },
  {
   "cell_type": "markdown",
   "id": "9525bdfa",
   "metadata": {},
   "source": [
    "##### Watch Time histogram\n",
    "<img src=\"newplot1.png\"><br>\n",
    "We notice that short films are more present in this data set"
   ]
  },
  {
   "cell_type": "markdown",
   "id": "62d5efe2",
   "metadata": {},
   "source": [
    "#### Meatscore column\n",
    "The column needs to be in a float data type.<br>"
   ]
  },
  {
   "cell_type": "code",
   "execution_count": 8,
   "id": "3e0c039f",
   "metadata": {},
   "outputs": [
    {
     "name": "stdout",
     "output_type": "stream",
     "text": [
      "Missing values : 164\n"
     ]
    }
   ],
   "source": [
    "data[\"Meatscore of movie\"]=data[\"Meatscore of movie\"].str.replace(\"*\", \"\", regex=False)\n",
    "data[\"Meatscore of movie\"] = data[\"Meatscore of movie\"].apply(lambda x: x.strip()).replace('', np.nan)\n",
    "data[\"Meatscore of movie\"].value_counts()\n",
    "data[\"Meatscore of movie\"].astype(\"float\")\n",
    "print(\"Missing values :\", data[\"Meatscore of movie\"].isna().sum())"
   ]
  },
  {
   "cell_type": "markdown",
   "id": "6489d6b6",
   "metadata": {},
   "source": [
    "#### Votes column\n"
   ]
  },
  {
   "cell_type": "code",
   "execution_count": 9,
   "id": "346932e3",
   "metadata": {},
   "outputs": [
    {
     "data": {
      "text/plain": [
       "array(['34,709'], dtype=object)"
      ]
     },
     "execution_count": 9,
     "metadata": {},
     "output_type": "execute_result"
    }
   ],
   "source": [
    "data[\"Votes\"].unique()"
   ]
  },
  {
   "cell_type": "markdown",
   "id": "9539d86c",
   "metadata": {},
   "source": [
    "We have only one unique value.<br>The column has no nead."
   ]
  },
  {
   "cell_type": "code",
   "execution_count": 10,
   "id": "53a3752c",
   "metadata": {},
   "outputs": [
    {
     "data": {
      "text/html": [
       "<div>\n",
       "<style scoped>\n",
       "    .dataframe tbody tr th:only-of-type {\n",
       "        vertical-align: middle;\n",
       "    }\n",
       "\n",
       "    .dataframe tbody tr th {\n",
       "        vertical-align: top;\n",
       "    }\n",
       "\n",
       "    .dataframe thead th {\n",
       "        text-align: right;\n",
       "    }\n",
       "</style>\n",
       "<table border=\"1\" class=\"dataframe\">\n",
       "  <thead>\n",
       "    <tr style=\"text-align: right;\">\n",
       "      <th></th>\n",
       "      <th>Movie Name</th>\n",
       "      <th>Year of Release</th>\n",
       "      <th>Watch Time</th>\n",
       "      <th>Movie Rating</th>\n",
       "      <th>Meatscore of movie</th>\n",
       "      <th>Gross</th>\n",
       "      <th>Description</th>\n",
       "    </tr>\n",
       "  </thead>\n",
       "  <tbody>\n",
       "    <tr>\n",
       "      <th>0</th>\n",
       "      <td>The Shawshank Redemption</td>\n",
       "      <td>1994</td>\n",
       "      <td>142</td>\n",
       "      <td>9.3</td>\n",
       "      <td>81</td>\n",
       "      <td>$28.34M</td>\n",
       "      <td>Two imprisoned men bond over a number of years...</td>\n",
       "    </tr>\n",
       "    <tr>\n",
       "      <th>1</th>\n",
       "      <td>The Godfather</td>\n",
       "      <td>1972</td>\n",
       "      <td>175</td>\n",
       "      <td>9.2</td>\n",
       "      <td>100</td>\n",
       "      <td>$134.97M</td>\n",
       "      <td>The aging patriarch of an organized crime dyna...</td>\n",
       "    </tr>\n",
       "    <tr>\n",
       "      <th>2</th>\n",
       "      <td>The Dark Knight</td>\n",
       "      <td>2008</td>\n",
       "      <td>152</td>\n",
       "      <td>9.0</td>\n",
       "      <td>84</td>\n",
       "      <td>$534.86M</td>\n",
       "      <td>When the menace known as the Joker wreaks havo...</td>\n",
       "    </tr>\n",
       "    <tr>\n",
       "      <th>3</th>\n",
       "      <td>The Lord of the Rings: The Return of the King</td>\n",
       "      <td>2003</td>\n",
       "      <td>201</td>\n",
       "      <td>9.0</td>\n",
       "      <td>94</td>\n",
       "      <td>$377.85M</td>\n",
       "      <td>Gandalf and Aragorn lead the World of Men agai...</td>\n",
       "    </tr>\n",
       "    <tr>\n",
       "      <th>4</th>\n",
       "      <td>Schindler's List</td>\n",
       "      <td>1993</td>\n",
       "      <td>195</td>\n",
       "      <td>9.0</td>\n",
       "      <td>94</td>\n",
       "      <td>$96.90M</td>\n",
       "      <td>In German-occupied Poland during World War II,...</td>\n",
       "    </tr>\n",
       "    <tr>\n",
       "      <th>...</th>\n",
       "      <td>...</td>\n",
       "      <td>...</td>\n",
       "      <td>...</td>\n",
       "      <td>...</td>\n",
       "      <td>...</td>\n",
       "      <td>...</td>\n",
       "      <td>...</td>\n",
       "    </tr>\n",
       "    <tr>\n",
       "      <th>995</th>\n",
       "      <td>Sabrina</td>\n",
       "      <td>1954</td>\n",
       "      <td>113</td>\n",
       "      <td>7.6</td>\n",
       "      <td>72</td>\n",
       "      <td>%^%^%^</td>\n",
       "      <td>A playboy becomes interested in the daughter o...</td>\n",
       "    </tr>\n",
       "    <tr>\n",
       "      <th>996</th>\n",
       "      <td>From Here to Eternity</td>\n",
       "      <td>1953</td>\n",
       "      <td>118</td>\n",
       "      <td>7.6</td>\n",
       "      <td>85</td>\n",
       "      <td>$30.50M</td>\n",
       "      <td>At a U.S. Army base in 1941 Hawaii, a private ...</td>\n",
       "    </tr>\n",
       "    <tr>\n",
       "      <th>997</th>\n",
       "      <td>Snow White and the Seven Dwarfs</td>\n",
       "      <td>1937</td>\n",
       "      <td>83</td>\n",
       "      <td>7.6</td>\n",
       "      <td>95</td>\n",
       "      <td>$184.93M</td>\n",
       "      <td>Exiled into the dangerous forest by her wicked...</td>\n",
       "    </tr>\n",
       "    <tr>\n",
       "      <th>998</th>\n",
       "      <td>The 39 Steps</td>\n",
       "      <td>1935</td>\n",
       "      <td>86</td>\n",
       "      <td>7.6</td>\n",
       "      <td>93</td>\n",
       "      <td>%^%^%^</td>\n",
       "      <td>A man in London tries to help a counter-espion...</td>\n",
       "    </tr>\n",
       "    <tr>\n",
       "      <th>999</th>\n",
       "      <td>The Invisible Man</td>\n",
       "      <td>1933</td>\n",
       "      <td>71</td>\n",
       "      <td>7.6</td>\n",
       "      <td>87</td>\n",
       "      <td>%^%^%^</td>\n",
       "      <td>A scientist finds a way of becoming invisible,...</td>\n",
       "    </tr>\n",
       "  </tbody>\n",
       "</table>\n",
       "<p>1000 rows × 7 columns</p>\n",
       "</div>"
      ],
      "text/plain": [
       "                                        Movie Name  Year of Release  \\\n",
       "0                         The Shawshank Redemption             1994   \n",
       "1                                    The Godfather             1972   \n",
       "2                                  The Dark Knight             2008   \n",
       "3    The Lord of the Rings: The Return of the King             2003   \n",
       "4                                 Schindler's List             1993   \n",
       "..                                             ...              ...   \n",
       "995                                        Sabrina             1954   \n",
       "996                          From Here to Eternity             1953   \n",
       "997                Snow White and the Seven Dwarfs             1937   \n",
       "998                                   The 39 Steps             1935   \n",
       "999                              The Invisible Man             1933   \n",
       "\n",
       "    Watch Time  Movie Rating Meatscore of movie     Gross  \\\n",
       "0          142           9.3                 81   $28.34M   \n",
       "1          175           9.2                100  $134.97M   \n",
       "2          152           9.0                 84  $534.86M   \n",
       "3          201           9.0                 94  $377.85M   \n",
       "4          195           9.0                 94   $96.90M   \n",
       "..         ...           ...                ...       ...   \n",
       "995        113           7.6                 72    %^%^%^   \n",
       "996        118           7.6                 85   $30.50M   \n",
       "997         83           7.6                 95  $184.93M   \n",
       "998         86           7.6                 93    %^%^%^   \n",
       "999         71           7.6                 87    %^%^%^   \n",
       "\n",
       "                                           Description  \n",
       "0    Two imprisoned men bond over a number of years...  \n",
       "1    The aging patriarch of an organized crime dyna...  \n",
       "2    When the menace known as the Joker wreaks havo...  \n",
       "3    Gandalf and Aragorn lead the World of Men agai...  \n",
       "4    In German-occupied Poland during World War II,...  \n",
       "..                                                 ...  \n",
       "995  A playboy becomes interested in the daughter o...  \n",
       "996  At a U.S. Army base in 1941 Hawaii, a private ...  \n",
       "997  Exiled into the dangerous forest by her wicked...  \n",
       "998  A man in London tries to help a counter-espion...  \n",
       "999  A scientist finds a way of becoming invisible,...  \n",
       "\n",
       "[1000 rows x 7 columns]"
      ]
     },
     "execution_count": 10,
     "metadata": {},
     "output_type": "execute_result"
    }
   ],
   "source": [
    "data.drop(labels='Votes', axis=1)"
   ]
  },
  {
   "cell_type": "markdown",
   "id": "1497891d",
   "metadata": {},
   "source": [
    "#### Gross column\n",
    "The column needs to be in a float data type.<br>\n",
    "So I will remove symbols and delte inapropriate values and replace them with a NaN value"
   ]
  },
  {
   "cell_type": "code",
   "execution_count": 11,
   "id": "4d684d0f",
   "metadata": {
    "scrolled": true
   },
   "outputs": [
    {
     "name": "stdout",
     "output_type": "stream",
     "text": [
      "Missing values : 153\n"
     ]
    }
   ],
   "source": [
    "data[\"Gross\"]=data[\"Gross\"].str.lstrip(\"%$#^\")\n",
    "data[\"Gross\"]=data[\"Gross\"].str.replace(\"M\", \"\", regex=False)\n",
    "data[\"Gross\"] = data[\"Gross\"].apply(lambda x: x.strip()).replace('', np.nan)\n",
    "print(\"Missing values :\", data[\"Gross\"].isna().sum())"
   ]
  },
  {
   "cell_type": "code",
   "execution_count": 12,
   "id": "adf1db15",
   "metadata": {},
   "outputs": [
    {
     "data": {
      "image/png": "[encoded data removed]",
      "text/plain": [
       "<Figure size 1800x720 with 2 Axes>"
      ]
     },
     "metadata": {
      "needs_background": "light"
     },
     "output_type": "display_data"
    }
   ],
   "source": [
    "msno.matrix(data)\n",
    "plt.show()"
   ]
  },
  {
   "cell_type": "code",
   "execution_count": 13,
   "id": "9346bb17",
   "metadata": {
    "scrolled": false
   },
   "outputs": [
    {
     "data": {
      "text/plain": [
       "<AxesSubplot:xlabel='Meatscore of movie', ylabel='Gross'>"
      ]
     },
     "execution_count": 13,
     "metadata": {},
     "output_type": "execute_result"
    },
    {
     "data": {
      "image/png": "[encoded data removed]",
      "text/plain": [
       "<Figure size 432x288 with 1 Axes>"
      ]
     },
     "metadata": {
      "needs_background": "light"
     },
     "output_type": "display_data"
    }
   ],
   "source": [
    "sns.scatterplot(data = data, x=\"Meatscore of movie\", y=\"Gross\")"
   ]
  },
  {
   "cell_type": "markdown",
   "id": "86dedc30",
   "metadata": {},
   "source": [
    "<p>There is no obvious relation between columns with null values</p><br>"
   ]
  },
  {
   "cell_type": "code",
   "execution_count": 14,
   "id": "7e296964",
   "metadata": {},
   "outputs": [
    {
     "name": "stdout",
     "output_type": "stream",
     "text": [
      "Rows with null values :  317\n",
      "Rows with only one column null :  243\n"
     ]
    }
   ],
   "source": [
    "rows_with_both_columns_null = len(data[(data[\"Gross\"].isna()) & (data[\"Meatscore of movie\"].isna())])\n",
    "rows_with_null = data[\"Meatscore of movie\"].isna().sum() + data[\"Gross\"].isna().sum()\n",
    "rows_with_one_null = rows_with_null - rows_with_both_columns_null\n",
    "print(\"Rows with null values : \", rows_with_null)\n",
    "print(\"Rows with only one column null : \", rows_with_one_null)"
   ]
  }
 ],
 "metadata": {
  "kernelspec": {
   "display_name": "Python 3 (ipykernel)",
   "language": "python",
   "name": "python3"
  },
  "language_info": {
   "codemirror_mode": {
    "name": "ipython",
    "version": 3
   },
   "file_extension": ".py",
   "mimetype": "text/x-python",
   "name": "python",
   "nbconvert_exporter": "python",
   "pygments_lexer": "ipython3",
   "version": "3.9.7"
  }
 },
 "nbformat": 4,
 "nbformat_minor": 5
}
